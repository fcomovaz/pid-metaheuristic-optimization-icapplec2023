{
 "cells": [
  {
   "cell_type": "markdown",
   "metadata": {},
   "source": [
    "# International Conference on Applied Electronics and Computers 2023 - (ICappLEC)"
   ]
  },
  {
   "cell_type": "markdown",
   "metadata": {},
   "source": [
    "## Enhancing PID Controller Performance in RLC Circuits through Metaheuristic Optimization"
   ]
  },
  {
   "cell_type": "markdown",
   "metadata": {},
   "source": [
    "What abut is this?"
   ]
  },
  {
   "cell_type": "markdown",
   "metadata": {},
   "source": [
    "## Code Used"
   ]
  },
  {
   "cell_type": "markdown",
   "metadata": {},
   "source": [
    "### Loading Libraries"
   ]
  },
  {
   "cell_type": "code",
   "execution_count": 16,
   "metadata": {},
   "outputs": [],
   "source": [
    "% add graphic tool\n",
    "graphics_toolkit(\"gnuplot\");\n",
    "addpath('C:\\Users\\Francisco\\Desktop\\matlab2tikz-master\\src')\n",
    "\n",
    "\n",
    "pkg load control;\n",
    "pkg load image;"
   ]
  },
  {
   "cell_type": "markdown",
   "metadata": {},
   "source": [
    "### Code Parameters"
   ]
  },
  {
   "cell_type": "code",
   "execution_count": 17,
   "metadata": {},
   "outputs": [
    {
     "name": "stdout",
     "output_type": "stream",
     "text": [
      " *** (To disable info messages, pass ['showInfo', false] to matlab2tikz.)\n",
      " *** (For all other options, type 'help matlab2tikz'.)\n",
      " *** \n",
      " *** \n",
      " *** This is matlab2tikz v1.1.0.\n",
      " *** \n",
      " *** The latest developments can be retrieved from https://github.com/matlab2tikz/matlab2tikz/tree/develop.\n",
      " *** You can find more documentation on \n",
      " ***  https://github.com/matlab2tikz/matlab2tikz\n",
      " ***   and \n",
      " ***  https://github.com/matlab2tikz/matlab2tikz/wiki.\n",
      " *** If you encounter bugs or want a new feature, go to \n",
      " ***  https://github.com/matlab2tikz/matlab2tikz/issues.\n",
      " *** Please visit http://www.mathworks.com/matlabcentral/fileexchange/22022-matlab2tikz-matlab2tikz\n",
      " ***   to rate matlab2tikz or download the stable release.\n",
      " *** \n",
      " *** You will need pgfplots version 1.3 or newer to compile the TikZ output.\n",
      "mse = 0.3166\n"
     ]
    },
    {
     "data": {
      "image/png": "[encoded data removed]",
      "text/plain": [
       "<IPython.core.display.Image object>"
      ]
     },
     "metadata": {},
     "output_type": "display_data"
    }
   ],
   "source": [
    "% RLC parameters\n",
    "R = 10;\n",
    "L = 100e-3;\n",
    "C = 100e-9;\n",
    "\n",
    "% creating transfer function\n",
    "sys = tf([1], [L*C R*C 1]);\n",
    "% sys\n",
    "\n",
    "% simulation parameters\n",
    "sampling_rate = 250; % samples\n",
    "time_limit = 10e-3; % seconds\n",
    "time = linspace(0, time_limit, sampling_rate);\n",
    "\n",
    "% plotting step response\n",
    "% step(sys, time);\n",
    "[y, t] = step(sys, time);\n",
    "plot(t, y, 'linewidth', 3);\n",
    "xlabel('Tiempo (s)');\n",
    "ylabel('Amplitud');\n",
    "title('Respuesta al escalón');\n",
    "grid on;\n",
    "matlab2tikz('step.tex');\n",
    "\n",
    "\n",
    "% calculate the mse\n",
    "y = step(sys, time);\n",
    "mse = mean((y - 1).^2);\n",
    "mse"
   ]
  },
  {
   "cell_type": "markdown",
   "metadata": {},
   "source": [
    "### Genetic Algorithm Parameters"
   ]
  },
  {
   "cell_type": "code",
   "execution_count": 18,
   "metadata": {},
   "outputs": [
    {
     "name": "stdout",
     "output_type": "stream",
     "text": [
      "Generation 250/250"
     ]
    }
   ],
   "source": [
    "% ga parameters\n",
    "pop_size = 10;\n",
    "num_generations = 250;\n",
    "mutation_rate = 0.5;\n",
    "\n",
    "% run ga\n",
    "ga_result = make_ga(sys, time, pop_size, num_generations, mutation_rate, 1);"
   ]
  },
  {
   "cell_type": "markdown",
   "metadata": {},
   "source": [
    "### Best PID Parameters"
   ]
  },
  {
   "cell_type": "code",
   "execution_count": 19,
   "metadata": {},
   "outputs": [
    {
     "name": "stdout",
     "output_type": "stream",
     "text": [
      "P -> 622.027582\n",
      "I -> 352.742380\n",
      "D -> 691.141758\n"
     ]
    }
   ],
   "source": [
    "fprintf('P -> %f\\nI -> %f\\nD -> %f\\n', ga_result.BestGains(1), ga_result.BestGains(2), ga_result.BestGains(3));"
   ]
  },
  {
   "cell_type": "markdown",
   "metadata": {},
   "source": [
    "### Plot Fitness Evolution"
   ]
  },
  {
   "cell_type": "code",
   "execution_count": 20,
   "metadata": {},
   "outputs": [
    {
     "name": "stdout",
     "output_type": "stream",
     "text": [
      "Best fitness -> 0.004000\n",
      " *** (To disable info messages, pass ['showInfo', false] to matlab2tikz.)\n",
      " *** (For all other options, type 'help matlab2tikz'.)\n",
      " *** \n",
      " *** \n",
      " *** This is matlab2tikz v1.1.0.\n",
      " *** \n",
      " *** The latest developments can be retrieved from https://github.com/matlab2tikz/matlab2tikz/tree/develop.\n",
      " *** You can find more documentation on \n",
      " ***  https://github.com/matlab2tikz/matlab2tikz\n",
      " ***   and \n",
      " ***  https://github.com/matlab2tikz/matlab2tikz/wiki.\n",
      " *** If you encounter bugs or want a new feature, go to \n",
      " ***  https://github.com/matlab2tikz/matlab2tikz/issues.\n",
      " *** Please visit http://www.mathworks.com/matlabcentral/fileexchange/22022-matlab2tikz-matlab2tikz\n",
      " ***   to rate matlab2tikz or download the stable release.\n",
      " *** \n",
      " *** You will need pgfplots version 1.3 or newer to compile the TikZ output.\n"
     ]
    },
    {
     "data": {
      "image/png": "[encoded data removed]",
      "text/plain": [
       "<IPython.core.display.Image object>"
      ]
     },
     "metadata": {},
     "output_type": "display_data"
    }
   ],
   "source": [
    "% print the best fitness\n",
    "fprintf('Best fitness -> %f\\n', ga_result.BestFitness);\n",
    "% plot the fitnesses\n",
    "plot(ga_result.AllFitnesses, 'linewidth', 5);\n",
    "% change xlim\n",
    "xlim([0, num_generations]);\n",
    "xlabel('Generación');\n",
    "ylabel('Fitness');\n",
    "title('Fitness por generación');\n",
    "grid on;\n",
    "matlab2tikz('fitness.tex');"
   ]
  },
  {
   "cell_type": "markdown",
   "metadata": {},
   "source": [
    "### Graph Comparition"
   ]
  },
  {
   "cell_type": "code",
   "execution_count": 21,
   "metadata": {},
   "outputs": [
    {
     "name": "stdout",
     "output_type": "stream",
     "text": [
      "MSE -> 0.001000\n",
      " *** (To disable info messages, pass ['showInfo', false] to matlab2tikz.)\n",
      " *** (For all other options, type 'help matlab2tikz'.)\n",
      " *** \n",
      " *** \n",
      " *** This is matlab2tikz v1.1.0.\n",
      " *** \n",
      " *** The latest developments can be retrieved from https://github.com/matlab2tikz/matlab2tikz/tree/develop.\n",
      " *** You can find more documentation on \n",
      " ***  https://github.com/matlab2tikz/matlab2tikz\n",
      " ***   and \n",
      " ***  https://github.com/matlab2tikz/matlab2tikz/wiki.\n",
      " *** If you encounter bugs or want a new feature, go to \n",
      " ***  https://github.com/matlab2tikz/matlab2tikz/issues.\n",
      " *** Please visit http://www.mathworks.com/matlabcentral/fileexchange/22022-matlab2tikz-matlab2tikz\n",
      " ***   to rate matlab2tikz or download the stable release.\n",
      " *** \n",
      " *** You will need pgfplots version 1.3 or newer to compile the TikZ output.\n"
     ]
    },
    {
     "data": {
      "image/png": "[encoded data removed]",
      "text/plain": [
       "<IPython.core.display.Image object>"
      ]
     },
     "metadata": {},
     "output_type": "display_data"
    }
   ],
   "source": [
    "% get the tf with PID\n",
    "sysPID = ga_result.ControlledTF;\n",
    "\n",
    "% create my sim time\n",
    "sim_time = linspace(0, 5e-3, 1000);\n",
    "\n",
    "% apply 3 inputs throught the time using lsim\n",
    "v = [1 3 2];\n",
    "size_time = round(length(sim_time) / size(v, 2));\n",
    "u1 = v(1) * ones(1, size_time);\n",
    "u2 = v(2) * ones(1, size_time);\n",
    "u3 = v(3) * ones(1, size_time + 1);\n",
    "u = [u1 u2 u3];\n",
    "\n",
    "% get the output\n",
    "[y0, t0] = lsim(sys, u, sim_time);\n",
    "[y, t] = lsim(sysPID, u, sim_time);\n",
    "\n",
    "% get the mse\n",
    "mse = immse(y', u(1:length(y)));\n",
    "fprintf('MSE -> %f\\n', mse);\n",
    "\n",
    "% plot the results\n",
    "plot(t0, y0, t, y, 'linewidth', 5);\n",
    "xlabel('Tiempo (s)');\n",
    "ylabel('Amplitud');\n",
    "title('Respuesta a Distintas Entradas');\n",
    "legend('Sin Control', 'Con Control');\n",
    "grid on;\n",
    "matlab2tikz('inputs.tex');\n"
   ]
  },
  {
   "cell_type": "markdown",
   "metadata": {},
   "source": [
    "### Export the data"
   ]
  },
  {
   "cell_type": "code",
   "execution_count": 22,
   "metadata": {},
   "outputs": [],
   "source": [
    "% export all fitnesses to a txt file\n",
    "fileID = fopen('fitnesses.csv', 'w');\n",
    "generations = 1:1:num_generations;\n",
    "for i = 1:length(generations)\n",
    "    fprintf(fileID, '%.11f,%.11f\\n', generations(i), ga_result.AllFitnesses(i));\n",
    "end\n",
    "fclose(fileID);\n",
    "\n",
    "% save the not controlled tf\n",
    "[y, t] = step(sys, time);\n",
    "fileID = fopen('not_controlled.csv', 'w');\n",
    "for i = 1:length(t)\n",
    "    fprintf(fileID, '%.11f,%.11f\\n', t(i), y(i));\n",
    "end\n",
    "fclose(fileID);\n",
    "\n",
    "% save the controlled tf\n",
    "[y, t] = step(sysPID, time);\n",
    "fileID = fopen('controlled.csv', 'w');\n",
    "for i = 1:length(t)\n",
    "    fprintf(fileID, '%.11f,%.11f\\n', t(i), y(i));\n",
    "end\n",
    "fclose(fileID);\n",
    "\n",
    "% save different inputs with the controlled tf\n",
    "[y, t] = lsim(sysPID, u, sim_time);\n",
    "fileID = fopen('controlled_inputs.csv', 'w');\n",
    "for i = 1:10:length(t)\n",
    "    fprintf(fileID, '%d,%.11f\\n', t(i)*1000000, y(i));\n",
    "end\n",
    "fclose(fileID);\n",
    "\n",
    "% save the different inputs with the not controlled tf\n",
    "[y, t] = lsim(sys, u, sim_time);\n",
    "fileID = fopen('not_controlled_inputs.csv', 'w');\n",
    "for i = 1:10:length(t)\n",
    "    fprintf(fileID, '%d,%.11f\\n', t(i)*1000000, y(i));\n",
    "end\n",
    "fclose(fileID);\n"
   ]
  }
 ],
 "metadata": {
  "kernelspec": {
   "display_name": "Octave",
   "language": "octave",
   "name": "octave"
  },
  "language_info": {
   "file_extension": ".m",
   "help_links": [
    {
     "text": "GNU Octave",
     "url": "https://www.gnu.org/software/octave/support.html"
    },
    {
     "text": "Octave Kernel",
     "url": "https://github.com/Calysto/octave_kernel"
    },
    {
     "text": "MetaKernel Magics",
     "url": "https://metakernel.readthedocs.io/en/latest/source/README.html"
    }
   ],
   "mimetype": "text/x-octave",
   "name": "octave",
   "version": "8.3.0"
  },
  "orig_nbformat": 4
 },
 "nbformat": 4,
 "nbformat_minor": 2
}
